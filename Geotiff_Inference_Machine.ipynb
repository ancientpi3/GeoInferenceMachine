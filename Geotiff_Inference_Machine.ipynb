{
  "nbformat": 4,
  "nbformat_minor": 0,
  "metadata": {
    "colab": {
      "provenance": [],
      "machine_shape": "hm",
      "gpuType": "L4",
      "authorship_tag": "ABX9TyN93eC3HQS+4iMRnSAmd+Lr",
      "include_colab_link": true
    },
    "kernelspec": {
      "name": "python3",
      "display_name": "Python 3"
    },
    "language_info": {
      "name": "python"
    },
    "accelerator": "GPU"
  },
  "cells": [
    {
      "cell_type": "markdown",
      "metadata": {
        "id": "view-in-github",
        "colab_type": "text"
      },
      "source": [
        "<a href=\"https://colab.research.google.com/github/ancientpi3/GeoInferenceMachine/blob/main/Geotiff_Inference_Machine.ipynb\" target=\"_parent\"><img src=\"https://colab.research.google.com/assets/colab-badge.svg\" alt=\"Open In Colab\"/></a>"
      ]
    },
    {
      "cell_type": "code",
      "source": [
        "from google.colab import drive\n",
        "drive.mount('/content/drive')"
      ],
      "metadata": {
        "colab": {
          "base_uri": "https://localhost:8080/"
        },
        "id": "8Ef74gVX2hYc",
        "outputId": "34f5fd6a-2e34-474d-d3fa-14cc666d59b8"
      },
      "execution_count": 2,
      "outputs": [
        {
          "output_type": "stream",
          "name": "stdout",
          "text": [
            "Mounted at /content/drive\n"
          ]
        }
      ]
    },
    {
      "cell_type": "code",
      "source": [
        "from IPython.display import clear_output\n",
        "!pip install rasterio\n",
        "clear_output()"
      ],
      "metadata": {
        "id": "KKj0FCbM2f5P"
      },
      "execution_count": 3,
      "outputs": []
    },
    {
      "cell_type": "code",
      "source": [
        "from google.colab import drive\n",
        "from IPython.display import clear_output\n",
        "import rasterio\n",
        "import matplotlib.pyplot as plt\n",
        "import numpy as np\n",
        "import os\n",
        "from PIL import Image\n",
        "from tqdm import tqdm\n",
        "from fastai.vision.all import *\n",
        "from fastai.metrics import DiceMulti, foreground_acc\n",
        "from fastai.losses import CrossEntropyLossFlat"
      ],
      "metadata": {
        "id": "lru2WsnO9wYk"
      },
      "execution_count": 4,
      "outputs": []
    },
    {
      "cell_type": "code",
      "execution_count": 5,
      "metadata": {
        "id": "1NEkqA9_2Ont"
      },
      "outputs": [],
      "source": [
        "\n",
        "# prompt: give me the imports I need to load in geotiff imagery\n",
        "\n",
        "import rasterio\n",
        "import matplotlib.pyplot as plt\n",
        "import numpy as np\n",
        "from rasterio.merge import merge"
      ]
    },
    {
      "cell_type": "code",
      "source": [
        "class GeoInferenceMachine:\n",
        "    def __init__(self, geotiff_path,\n",
        "                 tile_dimensions,\n",
        "                 tiles_folder_path,\n",
        "                 preds_folder_path,\n",
        "                 model_path=None,\n",
        "                 ):\n",
        "        self.geotiff_path = geotiff_path\n",
        "        self.tile_dimensions = tile_dimensions\n",
        "        self.tiles_folder_path = tiles_folder_path\n",
        "        self.tile_input_data_geo = {} # New dictionary to store geo-coordinates\n",
        "        self.preds_folder_path = preds_folder_path\n",
        "        self.model_path = model_path\n",
        "        self.model = None\n",
        "        if not os.path.exists(self.tiles_folder_path):\n",
        "            os.makedirs(self.tiles_folder_path)\n",
        "        if not os.path.exists(self.preds_folder_path):\n",
        "            os.makedirs(self.preds_folder_path)\n",
        "        # Add other instance variables as needed\n",
        "\n",
        "    def multiband_to_png(self, tile):\n",
        "        \"\"\"\n",
        "        Converts a multi-band image to a PNG image.\n",
        "        Override this function to implement your custom conversion logic.\n",
        "        \"\"\"\n",
        "        # Assuming the tile is a numpy array with shape (bands, height, width)\n",
        "        # Convert each band to an 8-bit grayscale image\n",
        "        images = []\n",
        "        for band in range(tile.shape[0]):\n",
        "            band_data = tile[band,:, :]\n",
        "\n",
        "            # Normalize to 0-255 range\n",
        "            min_val = np.min(band_data)\n",
        "            max_val = np.max(band_data)\n",
        "            normalized_band = ((band_data - min_val) / (max_val - min_val)) * 255\n",
        "\n",
        "            # Convert to 8-bit unsigned integer\n",
        "            normalized_band = normalized_band.astype(np.uint8)\n",
        "            images.append(Image.fromarray(normalized_band))\n",
        "\n",
        "    def tile_input_data(self):\n",
        "        with rasterio.open(self.geotiff_path) as src:\n",
        "            width = src.width\n",
        "            height = src.height\n",
        "            tile_width, tile_height = self.tile_dimensions\n",
        "            tiles = []\n",
        "            total_tiles = (height // tile_height) * (width // tile_width)\n",
        "            with tqdm(total=total_tiles, desc=\"Tiling Progress\") as pbar:\n",
        "              for i in range(0, height, tile_height):\n",
        "                  for j in range(0, width, tile_width):\n",
        "                      window = rasterio.windows.Window(j, i, tile_width, tile_height)\n",
        "                      tile = src.read(window=window)\n",
        "                      if tile.shape[1] != tile_height or tile.shape[2] != tile_width:\n",
        "                          tile = src.read(window=window,\n",
        "                                          boundless=True,\n",
        "                                          # fill_value=0,  # Value for out-of-bounds areas\n",
        "                                          # out_shape=(height, width)\n",
        "                                          )\n",
        "\n",
        "\n",
        "                      png_image = self.multiband_to_png(tile)\n",
        "                      tile_filename = os.path.join(self.tiles_folder_path, f\"tile_{i}_{j}.png\")\n",
        "                      png_image.save(tile_filename)\n",
        "\n",
        "                      # Store geo-coordinates\n",
        "                      transform = src.window_transform(window)\n",
        "                      self.tile_input_data_geo[tile_filename] = {\n",
        "                          'transform': transform.to_gdal(),\n",
        "                          'crs': src.crs.to_string()\n",
        "                      }\n",
        "\n",
        "                      pbar.update(1)\n",
        "\n",
        "    def png_pred_to_geotiff(self, png_path, geo_info_path=None, pred=None):\n",
        "            if geo_info_path is None:\n",
        "                geo_info_path = self.tile_input_data_geo\n",
        "            geo_info = geo_info_path[png_path]\n",
        "            transform_tuple = geo_info['transform']\n",
        "            transform = rasterio.Affine.from_gdal(*transform_tuple)\n",
        "            crs = geo_info['crs']\n",
        "            img_array = np.array(pred)\n",
        "            # img_array = (img_array - img_array.min()) / (img_array.max() - img_array.min())\n",
        "            # Construct the output path within self.preds_folder_path\n",
        "            output_path = os.path.join(self.preds_folder_path, os.path.basename(png_path).replace('.png', '_pred.tif'))\n",
        "            with rasterio.open(output_path, 'w', driver='GTiff',\n",
        "                                height=img_array.shape[0], width=img_array.shape[1],\n",
        "                                count=img_array.shape[2] if len(img_array.shape) > 2 else 1,\n",
        "                                dtype=rasterio.float32,\n",
        "                                crs=crs,\n",
        "                                transform=transform) as dst:\n",
        "                if len(img_array.shape) > 2:\n",
        "                    dst.write(img_array)\n",
        "                else:\n",
        "                    dst.write(img_array, 1)\n",
        "\n",
        "\n",
        "    def initialize_model(self):\n",
        "        \"\"\"\n",
        "        Initializes the machine learning model.\n",
        "        Override this function to implement your custom model initialization logic.\n",
        "        \"\"\"\n",
        "        raise NotImplementedError(\"Subclasses must implement this method\")\n",
        "\n",
        "\n",
        "    def generate_inferences(self):\n",
        "        \"\"\"\n",
        "        Runs ML inference on a tile.\n",
        "        Override this function to implement your custom inference logic.\n",
        "        \"\"\"\n",
        "        raise NotImplementedError(\"Subclasses must implement this method\")\n",
        "\n",
        "    def run(self):\n",
        "        \"\"\"\n",
        "        Orchestrates the tiling, preprocessing, and inference process.\n",
        "        \"\"\"\n",
        "        self.tile_input_data()\n",
        "        # ... (rest of your run method)\n"
      ],
      "metadata": {
        "id": "fsEIVPWYBQ0o"
      },
      "execution_count": 6,
      "outputs": []
    },
    {
      "cell_type": "code",
      "source": [
        "# prompt: write me a subclass NDVIgbInferenceMachine that inherits from GeoInferenceMachine. Overwrite tile_input_data to tile up a geotiff (located at self.geotiff_path) according a an instance variable self.tile_dimensions (i.e [256,256] or [512,512]). For each tile, run a function called self.multiband_to_png(tile) to save the tile as png in a folder location self.tiles_folder_path\n",
        "\n",
        "import os\n",
        "from PIL import Image\n",
        "\n",
        "class NDVIgbInferenceMachine(GeoInferenceMachine):\n",
        "    def __init__(self, geotiff_path,\n",
        "                 tile_dimensions,\n",
        "                 tiles_folder_path,\n",
        "                 preds_folder_path,\n",
        "                 model_path=None):\n",
        "        super().__init__(geotiff_path, tile_dimensions, tiles_folder_path, preds_folder_path, model_path)\n",
        "\n",
        "    def create_NDVIgb_tile(self,x):\n",
        "\n",
        "      urb = x[4].copy()\n",
        "      perm = x[5].copy()\n",
        "      perm[perm==-9999] = 0\n",
        "      mask = (urb)*(perm==0) == 0\n",
        "\n",
        "      NDVIgb = np.array([x[3]*mask, x[1]*mask, x[2]*mask]).transpose(1,2,0)\n",
        "\n",
        "      NDVIgb = np.flipud(NDVIgb)\n",
        "\n",
        "      # Rotate -90 degrees (clockwise)\n",
        "      NDVIgb = np.rot90(NDVIgb, k=3)  # Rotate by 270 degrees counter-clockwise\n",
        "\n",
        "      return NDVIgb\n",
        "\n",
        "    def multiband_to_png(self, tile):\n",
        "      NDVIgb = self.create_NDVIgb_tile(tile)\n",
        "      image = Image.fromarray((255*NDVIgb).astype(np.uint8))\n",
        "      #merged_image = Image.merge('RGB', images[:3]) # Merge first three bands as RGB\n",
        "      return image\n",
        "\n",
        "    def initialize_model(self):\n",
        "        # Implement your model initialization logic here\n",
        "        self.device = torch.device(\"cuda\" if torch.cuda.is_available() else \"cpu\")\n",
        "        loss_func = CrossEntropyLossFlat(axis=1)\n",
        "        empty_dls = DataLoaders(DataLoader([], bs=1), DataLoader([], bs=1))\n",
        "        body = create_body(convnext_small(), n_in=3, pretrained=True)\n",
        "        model = DynamicUnet(body[0], n_out=2, img_size=(244, 244))\n",
        "        learn = Learner(empty_dls, model, loss_func=loss_func, cbs=[], lr=1e-3, wd=1e-3, metrics=[DiceMulti(), foreground_acc])\n",
        "        learn.load(self.model_path)\n",
        "        self.model = learn.model\n",
        "        self.model.to(self.device)\n",
        "\n",
        "    def combine_geotiffs(self, save_location):\n",
        "      \"\"\"\n",
        "      Combines all GeoTIFFs in self.preds_folder_path into a single GeoTIFF.\n",
        "\n",
        "      Args:\n",
        "          save_location (str): The path to save the combined GeoTIFF.\n",
        "      \"\"\"\n",
        "\n",
        "      search_criteria = os.path.join(self.preds_folder_path, '*.tif')\n",
        "      geotiff_files = glob.glob(search_criteria)\n",
        "\n",
        "      if not geotiff_files:\n",
        "          print(f\"No GeoTIFF files found in {self.preds_folder_path}\")\n",
        "          return\n",
        "\n",
        "      src_files_to_mosaic = []\n",
        "      for fp in geotiff_files:\n",
        "          src = rasterio.open(fp)\n",
        "          src_files_to_mosaic.append(src)\n",
        "\n",
        "      mosaic, out_trans = merge(src_files_to_mosaic)\n",
        "\n",
        "      # Copy the metadata\n",
        "      out_meta = src.meta.copy()\n",
        "\n",
        "      # Update the metadata\n",
        "      out_meta.update({\"driver\": \"GTiff\",\n",
        "                      \"height\": mosaic.shape[1],\n",
        "                      \"width\": mosaic.shape[2],\n",
        "                      \"transform\": out_trans,\n",
        "                      \"crs\": src.crs})\n",
        "\n",
        "      # Write the mosaic raster to disk\n",
        "      with rasterio.open(save_location, \"w\", **out_meta) as dest:\n",
        "          dest.write(mosaic)\n",
        "\n",
        "      # Close the datasets\n",
        "      for src in src_files_to_mosaic:\n",
        "          src.close()\n",
        "\n",
        "    def generate_inferences(self, batch_size=10):\n",
        "        \"\"\"\n",
        "        Runs ML inference on tiles in batches.\n",
        "        \"\"\"\n",
        "        self.initialize_model()\n",
        "        tile_paths = [os.path.join(self.tiles_folder_path, tile_path) for tile_path in os.listdir(self.tiles_folder_path) if tile_path.endswith(\".png\")]\n",
        "\n",
        "        for i in tqdm(range(0, len(tile_paths), batch_size), desc=\"Inference Progress\"):\n",
        "            batch_paths = tile_paths[i:i + batch_size]\n",
        "            batch_images = []\n",
        "            for tile_full_path in batch_paths:\n",
        "                img = PILImage.create(tile_full_path)\n",
        "                img_tensor = TensorImage(image2tensor(img)).type(torch.FloatTensor)/255.0\n",
        "                batch_images.append(img_tensor)\n",
        "\n",
        "            # Convert list of tensors to a single tensor\n",
        "            batch_tensor = torch.stack(batch_images)\n",
        "            batch_tensor = batch_tensor.to(self.device)\n",
        "\n",
        "            # Perform inference on the batch\n",
        "            with torch.no_grad(): # Use no_grad for inference\n",
        "              # preds = self.model.eval()(batch_tensor).argmax(dim=1).cpu().numpy()\n",
        "              preds = self.model.eval()(batch_tensor).cpu()  # Get raw predictions as numpy array\n",
        "              preds = torch.softmax(preds, dim=1).numpy()\n",
        "              preds = preds[:,1]\n",
        "              # preds = preds[0, :, :, :]\n",
        "            # Save predictions individually\n",
        "            for j, pred in enumerate(preds):\n",
        "                self.png_pred_to_geotiff(batch_paths[j], pred=pred)"
      ],
      "metadata": {
        "id": "9t8d_PiN4Vw1"
      },
      "execution_count": 7,
      "outputs": []
    },
    {
      "cell_type": "code",
      "source": [
        "\n",
        "# prompt: \"/content/drive/MyDrive/GEE_exports/study_area/study_area_with_permit-0000000000-0000011776.tif\" load this and run tiling with the above class\n",
        "\n",
        "# Example usage\n",
        "geotiff_file_path = \"/content/drive/MyDrive/GEE_exports/study_area/study_area_with_permit-0000000000-0000011776.tif\"\n",
        "tile_size = (256, 256)  # Example tile dimensions\n",
        "output_folder = \"/content/tiles\"\n",
        "preds_folder = \"/content/preds\"\n",
        "model_path = '/content/drive/MyDrive/MTM/MTM Fastai/mtm_convnext_10_1_24'\n",
        "inference_machine = NDVIgbInferenceMachine(geotiff_file_path, tile_size, output_folder, preds_folder, model_path)"
      ],
      "metadata": {
        "id": "-H-4Jdt68h8y"
      },
      "execution_count": 8,
      "outputs": []
    },
    {
      "cell_type": "code",
      "source": [
        "inference_machine.tile_input_data()"
      ],
      "metadata": {
        "colab": {
          "base_uri": "https://localhost:8080/"
        },
        "id": "wL66nEWm8Rem",
        "outputId": "8d639a49-3575-4c1b-df8a-6552976253c6"
      },
      "execution_count": 9,
      "outputs": [
        {
          "output_type": "stream",
          "name": "stderr",
          "text": [
            "Tiling Progress:   0%|          | 0/1978 [00:00<?, ?it/s]<ipython-input-7-510b47c19bff>:32: RuntimeWarning: invalid value encountered in cast\n",
            "  image = Image.fromarray((255*NDVIgb).astype(np.uint8))\n",
            "Tiling Progress: 2024it [00:39, 51.69it/s]\n"
          ]
        }
      ]
    },
    {
      "cell_type": "code",
      "source": [
        "inference_machine.initialize_model()\n",
        "inference_machine.generate_inferences()"
      ],
      "metadata": {
        "colab": {
          "base_uri": "https://localhost:8080/"
        },
        "id": "w8OqcmNw7DoD",
        "outputId": "dcc50c22-40d2-4ad5-a4b4-68c4ac193d4c"
      },
      "execution_count": 10,
      "outputs": [
        {
          "output_type": "stream",
          "name": "stderr",
          "text": [
            "/usr/local/lib/python3.10/dist-packages/fastai/learner.py:53: FutureWarning: You are using `torch.load` with `weights_only=False` (the current default value), which uses the default pickle module implicitly. It is possible to construct malicious pickle data which will execute arbitrary code during unpickling (See https://github.com/pytorch/pytorch/blob/main/SECURITY.md#untrusted-models for more details). In a future release, the default value for `weights_only` will be flipped to `True`. This limits the functions that could be executed during unpickling. Arbitrary objects will no longer be allowed to be loaded via this mode unless they are explicitly allowlisted by the user via `torch.serialization.add_safe_globals`. We recommend you start setting `weights_only=True` for any use case where you don't have full control of the loaded file. Please open an issue on GitHub for any issues related to this experimental feature.\n",
            "  state = torch.load(file, map_location=device, **torch_load_kwargs)\n",
            "/usr/local/lib/python3.10/dist-packages/fastai/learner.py:60: UserWarning: Could not load the optimizer state.\n",
            "  if with_opt: warn(\"Could not load the optimizer state.\")\n",
            "Inference Progress: 100%|██████████| 203/203 [00:37<00:00,  5.35it/s]\n"
          ]
        }
      ]
    },
    {
      "cell_type": "code",
      "source": [
        "inference_machine.combine_geotiffs(save_location='/content/mtm_ndvigb_pred_test.tif')"
      ],
      "metadata": {
        "id": "NlQTb5PLW2Et"
      },
      "execution_count": 11,
      "outputs": []
    },
    {
      "cell_type": "code",
      "source": [
        "with rasterio.open('/content/mtm_ndvigb_pred_test.tif') as src:\n",
        "  data = src.read(1)\n",
        "  print(np.min(data))\n",
        "  plt.imshow(data)\n"
      ],
      "metadata": {
        "colab": {
          "base_uri": "https://localhost:8080/",
          "height": 452
        },
        "id": "_JY3Zu1IZAMY",
        "outputId": "32983eb4-4a47-48e5-d03c-c042344eb65c"
      },
      "execution_count": 13,
      "outputs": [
        {
          "output_type": "stream",
          "name": "stdout",
          "text": [
            "1.3467121e-12\n"
          ]
        },
        {
          "output_type": "display_data",
          "data": {
            "text/plain": [
              "<Figure size 640x480 with 1 Axes>"
            ],
            "image/png": "[encoded data removed]"
          },
          "metadata": {}
        }
      ]
    },
    {
      "cell_type": "code",
      "source": [],
      "metadata": {
        "id": "KNEndWPrmecW"
      },
      "execution_count": 12,
      "outputs": []
    }
  ]
}